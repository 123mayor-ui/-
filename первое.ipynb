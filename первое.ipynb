{
  "nbformat": 4,
  "nbformat_minor": 0,
  "metadata": {
    "colab": {
      "provenance": [],
      "authorship_tag": "ABX9TyPHTkrA1csGQpfH+vCmPrhm",
      "include_colab_link": true
    },
    "kernelspec": {
      "name": "python3",
      "display_name": "Python 3"
    },
    "language_info": {
      "name": "python"
    }
  },
  "cells": [
    {
      "cell_type": "markdown",
      "metadata": {
        "id": "view-in-github",
        "colab_type": "text"
      },
      "source": [
        "<a href=\"https://colab.research.google.com/github/123mayor-ui/-/blob/main/%D0%BF%D0%B5%D1%80%D0%B2%D0%BE%D0%B5.ipynb\" target=\"_parent\"><img src=\"https://colab.research.google.com/assets/colab-badge.svg\" alt=\"Open In Colab\"/></a>"
      ]
    },
    {
      "cell_type": "code",
      "execution_count": null,
      "metadata": {
        "colab": {
          "base_uri": "https://localhost:8080/"
        },
        "id": "stxowBVTQLHB",
        "outputId": "412630ed-9886-477e-9e82-f2cb77024ae7"
      },
      "outputs": [
        {
          "output_type": "stream",
          "name": "stdout",
          "text": [
            "Это мое первое текстовое поле\n"
          ]
        }
      ],
      "source": [
        "print(\"Это мое первое текстовое поле\")"
      ]
    },
    {
      "cell_type": "markdown",
      "source": [
        "Это мое первое текстовое поле"
      ],
      "metadata": {
        "id": "ouCGy2O3QnHB"
      }
    }
  ]
}