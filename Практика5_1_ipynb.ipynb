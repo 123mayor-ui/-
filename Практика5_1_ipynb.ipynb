{
  "nbformat": 4,
  "nbformat_minor": 0,
  "metadata": {
    "colab": {
      "provenance": [],
      "authorship_tag": "ABX9TyMlhjyePeggPi01kFU8BiYz",
      "include_colab_link": true
    },
    "kernelspec": {
      "name": "python3",
      "display_name": "Python 3"
    },
    "language_info": {
      "name": "python"
    }
  },
  "cells": [
    {
      "cell_type": "markdown",
      "metadata": {
        "id": "view-in-github",
        "colab_type": "text"
      },
      "source": [
        "<a href=\"https://colab.research.google.com/github/123mayor-ui/-/blob/main/%D0%9F%D1%80%D0%B0%D0%BA%D1%82%D0%B8%D0%BA%D0%B05_1_ipynb.ipynb\" target=\"_parent\"><img src=\"https://colab.research.google.com/assets/colab-badge.svg\" alt=\"Open In Colab\"/></a>"
      ]
    },
    {
      "cell_type": "code",
      "execution_count": null,
      "metadata": {
        "colab": {
          "base_uri": "https://localhost:8080/"
        },
        "id": "dvYtzHmHBEhf",
        "outputId": "e89777d9-e83e-4534-f935-89ae33547bc3"
      },
      "outputs": [
        {
          "output_type": "stream",
          "name": "stdout",
          "text": [
            "Hello Word\n"
          ]
        }
      ],
      "source": [
        "#Задание № 1\n",
        "print(\"Hello Word\")"
      ]
    },
    {
      "cell_type": "code",
      "source": [
        "#Задание № 2\n",
        "print(4, 8, 15, 16, 23, 42)"
      ],
      "metadata": {
        "colab": {
          "base_uri": "https://localhost:8080/"
        },
        "id": "3LpzXHLdCb2O",
        "outputId": "103d295a-5a29-47ab-a5a2-ca3005dea381"
      },
      "execution_count": null,
      "outputs": [
        {
          "output_type": "stream",
          "name": "stdout",
          "text": [
            "4 8 15 16 23 42\n"
          ]
        }
      ]
    },
    {
      "cell_type": "code",
      "source": [
        "#Задание № 3\n",
        "print(\"*\")\n",
        "print(\"**\")\n",
        "print(\"***\")\n",
        "print(\"****\")\n",
        "print(\"*****\")\n",
        "print(\"******\")\n",
        "print(\"*******\")"
      ],
      "metadata": {
        "colab": {
          "base_uri": "https://localhost:8080/"
        },
        "id": "j6ZZ6a1xDCn7",
        "outputId": "2d6bf8e6-9d62-4c6c-90f9-3840b84a0dd9"
      },
      "execution_count": null,
      "outputs": [
        {
          "output_type": "stream",
          "name": "stdout",
          "text": [
            "*\n",
            "**\n",
            "***\n",
            "****\n",
            "*****\n",
            "******\n",
            "*******\n"
          ]
        }
      ]
    },
    {
      "cell_type": "code",
      "source": [
        "#Задание № 4\n",
        "print(\"Отчет о продажах\")\n",
        "print(\"1 квартал: 1200000 руб.\")\n",
        "print(\"2 квартал: 1350000 руб.\")\n",
        "print(\"3 квартал: 1280000 руб.\")\n",
        "print(\"4 квартал: 1420000 руб.\")\n"
      ],
      "metadata": {
        "colab": {
          "base_uri": "https://localhost:8080/"
        },
        "id": "fkqm1qA9Eb_D",
        "outputId": "d6fd378f-a68d-4656-f120-0b13524cc13e"
      },
      "execution_count": null,
      "outputs": [
        {
          "output_type": "stream",
          "name": "stdout",
          "text": [
            "Отчет о продажах\n",
            "1 квартал: 1200000 руб.\n",
            "2 квартал: 1350000 руб.\n",
            "3 квартал: 1280000 руб.\n",
            "4 квартал: 1420000 руб.\n"
          ]
        }
      ]
    },
    {
      "cell_type": "code",
      "source": [
        "#задание №5\n",
        "name = input()\n",
        "print('Добро пожаловать в команду,', name)"
      ],
      "metadata": {
        "colab": {
          "base_uri": "https://localhost:8080/"
        },
        "id": "u6hH35G5GD9I",
        "outputId": "a0e79092-0368-4cba-9523-542ef9a2e6c7"
      },
      "execution_count": null,
      "outputs": [
        {
          "output_type": "stream",
          "name": "stdout",
          "text": [
            "Влад\n",
            "Добро пожаловать в команду, Влад\n"
          ]
        }
      ]
    },
    {
      "cell_type": "code",
      "source": [
        "#Задание №6\n",
        "company=input()\n",
        "print(company,\" - лидер рынка!\")"
      ],
      "metadata": {
        "colab": {
          "base_uri": "https://localhost:8080/"
        },
        "id": "629zpF_PHi6M",
        "outputId": "f0bd27b0-d68c-4427-cf62-c1dc4329150c"
      },
      "execution_count": null,
      "outputs": [
        {
          "output_type": "stream",
          "name": "stdout",
          "text": [
            "Сбер\n",
            "Сбер  - лидер рынка!\n"
          ]
        }
      ]
    },
    {
      "cell_type": "code",
      "source": [
        "#Задание № 7\n",
        "print('Sales Q1') #название\n",
        "print('1000') #число строк\n",
        "print('8') #число столбцов"
      ],
      "metadata": {
        "colab": {
          "base_uri": "https://localhost:8080/"
        },
        "id": "eH-8iiqZIUVa",
        "outputId": "037bb110-3066-48f3-d6ca-88f449c3419d"
      },
      "execution_count": null,
      "outputs": [
        {
          "output_type": "stream",
          "name": "stdout",
          "text": [
            "Sales Q1\n",
            "1000\n",
            "8\n"
          ]
        }
      ]
    },
    {
      "cell_type": "code",
      "source": [
        "#Задание № 8\n",
        "report1= \"Продажи за январь\"\n",
        "report2=\"Продажи за февраль\"\n",
        "report3= \"Продажи за март\"\n",
        "print(report3)\n",
        "print(report2)\n",
        "print(report1)"
      ],
      "metadata": {
        "colab": {
          "base_uri": "https://localhost:8080/"
        },
        "id": "-IahBrEvKSFh",
        "outputId": "abfb82b0-6b92-47ba-f335-9d389019f2f1"
      },
      "execution_count": null,
      "outputs": [
        {
          "output_type": "stream",
          "name": "stdout",
          "text": [
            "Продажи за март\n",
            "Продажи за февраль\n",
            "Продажи за январь\n"
          ]
        }
      ]
    },
    {
      "cell_type": "code",
      "source": [
        "#Задание № 9\n",
        "base_price = 100\n",
        "growth_percent = 20\n",
        "new_price =base_price+growth_percent\n",
        "delta=new_price-base_price\n",
        "print(new_price)\n",
        "print(delta)"
      ],
      "metadata": {
        "colab": {
          "base_uri": "https://localhost:8080/"
        },
        "id": "UN4A3iDcLqFt",
        "outputId": "fc364e73-a7ec-4250-f5f8-940c5eb03ae2"
      },
      "execution_count": null,
      "outputs": [
        {
          "output_type": "stream",
          "name": "stdout",
          "text": [
            "120\n",
            "20\n"
          ]
        }
      ]
    },
    {
      "cell_type": "code",
      "source": [
        "#Задание № 10\n",
        "print(\"Северный\",\"Центральный\",\"Южный\",sep='***')"
      ],
      "metadata": {
        "colab": {
          "base_uri": "https://localhost:8080/"
        },
        "id": "50hF59MoMlrT",
        "outputId": "a88f6a6f-f38d-41e6-da91-211527430f70"
      },
      "execution_count": null,
      "outputs": [
        {
          "output_type": "stream",
          "name": "stdout",
          "text": [
            "Северный***Центральный***Южный\n"
          ]
        }
      ]
    },
    {
      "cell_type": "code",
      "source": [
        "#Задание № 11\n",
        "name = input(\"Введите имя аналитика: \")\n",
        "print(\"Подключение установлено.\", end=\" \")\n",
        "print(\"Добро пожаловать, {name}!\")\n"
      ],
      "metadata": {
        "colab": {
          "base_uri": "https://localhost:8080/"
        },
        "id": "BlbEYES5PHSX",
        "outputId": "ef9fcdbb-c3e8-478c-c9d3-7966f7c63a85"
      },
      "execution_count": null,
      "outputs": [
        {
          "output_type": "stream",
          "name": "stdout",
          "text": [
            "Введите имя аналитика: Влад\n",
            "Подключение установлено. Добро пожаловать, {name}!\n"
          ]
        }
      ]
    },
    {
      "cell_type": "code",
      "source": [
        "#Задание № 12\n",
        "item1=\"хлеб\"\n",
        "item2=\"молоко\"\n",
        "item3=\"сыр\"\n",
        "print(item1,item2,item3,sep='|')"
      ],
      "metadata": {
        "colab": {
          "base_uri": "https://localhost:8080/"
        },
        "id": "NuaiylF9Pj2X",
        "outputId": "27c33c95-4728-485a-a1e6-a55745df17ab"
      },
      "execution_count": null,
      "outputs": [
        {
          "output_type": "stream",
          "name": "stdout",
          "text": [
            "хлеб|молоко|сыр\n"
          ]
        }
      ]
    },
    {
      "cell_type": "code",
      "source": [
        "#Задание № 13\n",
        "value_str = \"42.7\"\n",
        "value_str_float =float(value_str)\n",
        "value_str_id_int =int(value_str_float)\n",
        "print(value_str_id_int)"
      ],
      "metadata": {
        "colab": {
          "base_uri": "https://localhost:8080/"
        },
        "id": "QQJeL_rhRK1q",
        "outputId": "48e04cea-7503-4a06-fbfd-888f87f25547"
      },
      "execution_count": null,
      "outputs": [
        {
          "output_type": "stream",
          "name": "stdout",
          "text": [
            "42\n"
          ]
        }
      ]
    },
    {
      "cell_type": "code",
      "source": [
        "#Задание № 14\n",
        "orders_yesterday = 10\n",
        "plan = 20\n",
        "deviation1 = abs(plan-orders_yesterday)\n",
        "print('Абсолютное отклонение от плана равняется', deviation1)\n"
      ],
      "metadata": {
        "colab": {
          "base_uri": "https://localhost:8080/"
        },
        "id": "iV-ykN4IS0GY",
        "outputId": "6004438f-076c-4ae5-b873-15c1309a2cf1"
      },
      "execution_count": null,
      "outputs": [
        {
          "output_type": "stream",
          "name": "stdout",
          "text": [
            "Абсолютное отклонение от плана равняется 10\n"
          ]
        }
      ]
    },
    {
      "cell_type": "code",
      "source": [
        "#Задание № 15\n",
        "int1=1\n",
        "int2=2\n",
        "int3=3\n",
        "int4=4\n",
        "int5=5\n",
        "max_level = max(int1,int2,int3,int4,int5)\n",
        "min_level = min(int1,int2,int3,int4,int5)\n",
        "print('Наибольшее число', max_level)\n",
        "print('Наименьшее число', min_level)"
      ],
      "metadata": {
        "colab": {
          "base_uri": "https://localhost:8080/"
        },
        "id": "WBNVyqVRTdjI",
        "outputId": "b16b65c8-8c57-4ee3-b8ca-12b98d8308b1"
      },
      "execution_count": null,
      "outputs": [
        {
          "output_type": "stream",
          "name": "stdout",
          "text": [
            "Наибольшее число 5\n",
            "Наименьшее число 1\n"
          ]
        }
      ]
    },
    {
      "cell_type": "code",
      "source": [
        "#Задание № 16\n",
        "firthname = input(\"Введите имя аналитика: \")\n",
        "lastname = input(\"Введите фамилию аналитика: \")\n",
        "print(f\"Привет, {firthname}_{lastname}! Вы только что начали изучать Python\")"
      ],
      "metadata": {
        "colab": {
          "base_uri": "https://localhost:8080/"
        },
        "id": "Ai6V2HVCU8iE",
        "outputId": "eb2a049d-6c04-4714-b184-5e476215f5a2"
      },
      "execution_count": null,
      "outputs": [
        {
          "output_type": "stream",
          "name": "stdout",
          "text": [
            "Введите имя аналитика: Влад\n",
            "Введите фамилию аналитика: Иванов\n",
            "Привет, Влад_Иванов! Вы только что начали изучать Python\n"
          ]
        }
      ]
    },
    {
      "cell_type": "code",
      "source": [
        "#Задание № 17 «Каждый в этой стране должен научиться программировать, потому что это учит думать.»\n",
        "onestr=input()\n",
        "twostr=input()\n",
        "total= onestr + '_' + twostr"
      ],
      "metadata": {
        "colab": {
          "base_uri": "https://localhost:8080/"
        },
        "id": "X-P3CfsQpF-b",
        "outputId": "866567ed-8252-4716-95a3-b589e1f26331"
      },
      "execution_count": null,
      "outputs": [
        {
          "name": "stdout",
          "output_type": "stream",
          "text": [
            "«Каждый в этой стране должен научиться программировать,\n",
            "потому что это учит думать.»\n"
          ]
        }
      ]
    },
    {
      "cell_type": "code",
      "source": [
        "#Задание №18\n",
        "check = int(input(\"Введите сумму чека: \"))\n",
        "print(check >= 1000)"
      ],
      "metadata": {
        "colab": {
          "base_uri": "https://localhost:8080/"
        },
        "id": "GpoT3s23twn7",
        "outputId": "14bd8398-8a46-44af-b199-121cf9ddb9e9"
      },
      "execution_count": null,
      "outputs": [
        {
          "output_type": "stream",
          "name": "stdout",
          "text": [
            "Введите сумму чека: 999\n",
            "False\n"
          ]
        }
      ]
    },
    {
      "cell_type": "code",
      "source": [
        "#Задание № 19\n",
        "age = int(input(\"Введите возраст: \"))\n",
        "print(age >= 18)"
      ],
      "metadata": {
        "colab": {
          "base_uri": "https://localhost:8080/"
        },
        "id": "duYdNVCuuUQc",
        "outputId": "9510a254-fed4-405f-ad05-51b731c871d1"
      },
      "execution_count": null,
      "outputs": [
        {
          "output_type": "stream",
          "name": "stdout",
          "text": [
            "Введите возраст: 16\n",
            "False\n"
          ]
        }
      ]
    },
    {
      "cell_type": "code",
      "source": [
        "#Задание № 20\n",
        "S=\"объём данных между потоками (МБ)\"\n",
        "S=500.0\n",
        "V1=\"скорость первого потока (МБ/ч)\"\n",
        "V1=50.0\n",
        "V2=\"скорость второго потока (МБ/ч)\"\n",
        "V2=70.0\n",
        "totalV=V1+V2\n",
        "t=\"время встречи потоков в часах\"\n",
        "t=S/totalV\n",
        "print(t)"
      ],
      "metadata": {
        "colab": {
          "base_uri": "https://localhost:8080/"
        },
        "id": "0atD1txuuqyL",
        "outputId": "905332dd-08b1-4f49-a6a8-e5c2e900e5d5"
      },
      "execution_count": 2,
      "outputs": [
        {
          "output_type": "stream",
          "name": "stdout",
          "text": [
            "4.166666666666667\n"
          ]
        }
      ]
    },
    {
      "cell_type": "code",
      "source": [
        "#Задание №21\n",
        "a=\"Длина первого катета\"\n",
        "a=443\n",
        "b=\"Длина второго катета\"\n",
        "b=390\n",
        "s=\"Площадь треугольника\"\n",
        "s=a*b/2\n",
        "print(s)"
      ],
      "metadata": {
        "colab": {
          "base_uri": "https://localhost:8080/"
        },
        "id": "KG-S_XstzBoE",
        "outputId": "62191533-f356-4804-a490-a2721dca55c1"
      },
      "execution_count": 6,
      "outputs": [
        {
          "output_type": "stream",
          "name": "stdout",
          "text": [
            "86385.0\n"
          ]
        }
      ]
    },
    {
      "cell_type": "code",
      "source": [
        "#Задание №22\n",
        "tf='температура в градусах по шкале Фаренгейта'\n",
        "tf=450.55\n",
        "tc='температуру в градусах по шкале Цельсия'\n",
        "tc =5/9*(tf - 32)\n",
        "print(tc)"
      ],
      "metadata": {
        "colab": {
          "base_uri": "https://localhost:8080/"
        },
        "id": "NQgpiFIq0JCQ",
        "outputId": "51f8ef51-42fd-43e7-ffd3-6ea35ac597ab"
      },
      "execution_count": 5,
      "outputs": [
        {
          "output_type": "stream",
          "name": "stdout",
          "text": [
            "232.5277777777778\n"
          ]
        }
      ]
    },
    {
      "cell_type": "code",
      "source": [
        "#Задание №23\n",
        "revenue_str=438746.78\n",
        "revenue_str_int=int(revenue_str)\n",
        "courier_name = input(\"Введите имя курьера: \")\n",
        "bonus=revenue_str_int*0.01\n",
        "report = f'Курьер {courier_name} получит бонус {bonus} р.'\n",
        "\n",
        "print(report)"
      ],
      "metadata": {
        "colab": {
          "base_uri": "https://localhost:8080/"
        },
        "id": "IkchCs2I2HN1",
        "outputId": "fb274848-aee3-4550-a4fa-f90d19f5fbb1"
      },
      "execution_count": 15,
      "outputs": [
        {
          "output_type": "stream",
          "name": "stdout",
          "text": [
            "Введите имя курьера: Влад\n",
            "Курьер Влад получит бонус 4387.46 р.\n"
          ]
        }
      ]
    }
  ]
}